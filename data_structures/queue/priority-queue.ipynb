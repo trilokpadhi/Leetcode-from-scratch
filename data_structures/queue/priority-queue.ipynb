{
 "cells": [
  {
   "cell_type": "code",
   "execution_count": 5,
   "metadata": {},
   "outputs": [
    {
     "name": "stdout",
     "output_type": "stream",
     "text": [
      "Priority queue: [(1, 'task1'), (2, 'task2'), (3, 'task3')]\n",
      "Highest priority element: (1, 'task1')\n",
      "Priority queue after pop: [(2, 'task2'), (3, 'task3')]\n"
     ]
    }
   ],
   "source": [
    "import heapq\n",
    "\n",
    "# Create an empty priority queue\n",
    "priority_queue = []\n",
    "\n",
    "# Add elements to the priority queue\n",
    "heapq.heappush(priority_queue, (2, 'task2'))  # (priority, element)\n",
    "heapq.heappush(priority_queue, (1, 'task1'))\n",
    "heapq.heappush(priority_queue, (3, 'task3'))\n",
    "\n",
    "# Print the priority queue\n",
    "print(\"Priority queue:\", priority_queue)\n",
    "\n",
    "# Remove and return the element with the highest priority (lowest number)\n",
    "highest_priority_element = heapq.heappop(priority_queue)\n",
    "print(\"Highest priority element:\", highest_priority_element)\n",
    "\n",
    "# Print the priority queue after removing the highest priority element\n",
    "print(\"Priority queue after pop:\", priority_queue)"
   ]
  },
  {
   "cell_type": "markdown",
   "metadata": {},
   "source": [
    "Problem Practice\n",
    "502. IPO \n",
    "https://leetcode.com/problems/ipo/description/ "
   ]
  },
  {
   "cell_type": "code",
   "execution_count": 3,
   "metadata": {},
   "outputs": [
    {
     "name": "stdout",
     "output_type": "stream",
     "text": [
      "(1, 'a')\n"
     ]
    }
   ],
   "source": [
    "from typing import List\n",
    "class Solution:\n",
    "    def findMaximizedCapital(self, k: int, w: int, profits: List[int], capital: List[int]) -> int:\n",
    "        # sort by capital\n",
    "        projects = sorted(zip(capital, profits))\n",
    "        # create a priority queue\n",
    "        priority_queue = []\n",
    "        for _ in range(k):\n",
    "            # loop through all projects\n",
    "            while projects and projects[0][0] <= w:\n",
    "                # add all projects that can be done\n",
    "                # The profit is negated before being pushed onto the queue because Python's heapq module creates a min-heap by default, but in this case, we want a max-heap to always access the project with the highest profit.\n",
    "                heapq.heappush(priority_queue, -projects.pop(0)[1])\n",
    "            if not priority_queue:\n",
    "                break\n",
    "            # This line is popping the project with the highest profit from the priority queue and adding its profit to w (which could be representing the total profit after completing a project). The profit is negated again to convert it back to its original positive value.\n",
    "            w += -heapq.heappop(priority_queue)\n",
    "            \n",
    "        return w\n",
    "        "
   ]
  },
  {
   "cell_type": "code",
   "execution_count": 4,
   "metadata": {},
   "outputs": [
    {
     "data": {
      "text/plain": [
       "[(2, 'b'), (4, 'd'), (3, 'c'), (5, 'e')]"
      ]
     },
     "execution_count": 4,
     "metadata": {},
     "output_type": "execute_result"
    }
   ],
   "source": [
    "priority_queue"
   ]
  },
  {
   "cell_type": "code",
   "execution_count": 23,
   "metadata": {},
   "outputs": [],
   "source": [
    "from typing import List\n",
    "def findMaximizedCapital(k: int, w: int, profits: List[int], capital: List[int]) -> int:\n",
    "    projects = sorted(zip(capital, profits))\n",
    "    priority_queue = []\n",
    "    i = 0\n",
    "    n = len(profits) # no of projects\n",
    "    for _ in range(k):\n",
    "        while i < n and projects[i][0] <= w:\n",
    "            heapq.heappush(priority_queue, -projects[i][1])\n",
    "            i = i+1\n",
    "        if not priority_queue:\n",
    "            break\n",
    "        w = w - (heapq.heappop(priority_queue))\n",
    "\n",
    "    return w"
   ]
  },
  {
   "cell_type": "code",
   "execution_count": 24,
   "metadata": {},
   "outputs": [],
   "source": [
    "k = 2\n",
    "w = 0\n",
    "profits = [1, 2, 3]\n",
    "capital = [0, 1, 1]"
   ]
  },
  {
   "cell_type": "code",
   "execution_count": 25,
   "metadata": {},
   "outputs": [
    {
     "data": {
      "text/plain": [
       "4"
      ]
     },
     "execution_count": 25,
     "metadata": {},
     "output_type": "execute_result"
    }
   ],
   "source": [
    "findMaximizedCapital(k, w, profits, capital)"
   ]
  },
  {
   "cell_type": "code",
   "execution_count": null,
   "metadata": {},
   "outputs": [],
   "source": []
  }
 ],
 "metadata": {
  "kernelspec": {
   "display_name": "base",
   "language": "python",
   "name": "python3"
  },
  "language_info": {
   "codemirror_mode": {
    "name": "ipython",
    "version": 3
   },
   "file_extension": ".py",
   "mimetype": "text/x-python",
   "name": "python",
   "nbconvert_exporter": "python",
   "pygments_lexer": "ipython3",
   "version": "3.12.2"
  }
 },
 "nbformat": 4,
 "nbformat_minor": 2
}
