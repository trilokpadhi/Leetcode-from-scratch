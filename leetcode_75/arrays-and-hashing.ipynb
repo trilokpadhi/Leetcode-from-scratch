{
 "cells": [
  {
   "cell_type": "markdown",
   "metadata": {},
   "source": [
    "#### Hashmap\n",
    "Hashmap is a data structure that stores key-value pairs. It is also known as a dictionary, map, or associative array. It is widely used in programming because of its fast lookups and updates. In Python, a hashmap is implemented using a dictionary.\n",
    "#### Implementation of a hashmap\n",
    "1. Under the hood, hashmap is implemented using an array, and each element in the array is a key-value pair where the key is the name and the value is the \n",
    "number of times the name appears in the array. \n",
    "2. We are going to convert the keys of the hashmap into an array index, and this process is called hashing.\n",
    "Lets say we have the example list of the names [\"Mary\", \"John\", \"Emma\", \"John\"], and we want to put those elements into a hashmap, we need to convert the keys into an array index. So, we need to hash the keys. One of the ways to hash the keys is to use the ASCII value of all the characters in the key and then take the modulo of the length of the array. \n"
   ]
  },
  {
   "cell_type": "code",
   "execution_count": 5,
   "metadata": {},
   "outputs": [],
   "source": [
    "# Use a dictionary to count the number of occurences \n",
    "names = [\"Mary\", \"John\", \"Emma\", \"John\"]\n",
    "hashmap_names = {}\n",
    "for name in names:\n",
    "    if name not in hashmap_names:\n",
    "        hashmap_names[name] = 1\n",
    "    else:\n",
    "        hashmap_names[name] += 1\n",
    "    \n",
    "# Built the hashmap\n",
    "class Pair:\n",
    "    def __init__(self, key, value) -> None:\n",
    "        self.key = key\n",
    "        self.value = value\n",
    "        \n",
    "class HashMap:\n",
    "    def __init__(self) -> None:\n",
    "        self.size = 2\n",
    "        self.data = [None] * self.size\n",
    "        \n",
    "    # Hash function: The objective of the below function is to return an integer value between 0 and size - 1, so that we have a valid index in the data array.\n",
    "    def hash(self, key):\n",
    "        hash = 0\n",
    "        for char in key:\n",
    "            hash += ord(char) # ord() returns an integer representing the Unicode code point of the character\n",
    "        return hash % self.size\n",
    "    \n",
    "    def get(self, key):\n",
    "        index = self.hash(key)\n",
    "        if self.data[index] == None:\n",
    "            return None\n",
    "        for pair in self.data[index]:\n",
    "            if pair.key == key:\n",
    "                return pair.value\n",
    "            \n",
    "    def put(self, key, value):\n",
    "        index = self.hash(key)\n",
    "        if self.data[index] == None:\n",
    "            self.data[index] = Pair(key, value)\n",
    "        else:\n",
    "            self.data[index].value = value\n",
    "            \n",
    "    def rehash(self):\n",
    "        old = self.data\n",
    "        self.size *= 2\n",
    "        self.data = [None] * self.size\n",
    "        for pair in old:\n",
    "            if pair != None:\n",
    "                self.put(pair.key, pair.value)"
   ]
  },
  {
   "cell_type": "code",
   "execution_count": null,
   "metadata": {},
   "outputs": [],
   "source": [
    "# https://leetcode.com/problems/contains-duplicate/\n",
    "# Given an integer array nums, return true if any value appears at least twice in the array, and return false if every element is distinct.\n",
    "# Example 1:\n",
    "# Input: nums = [1,2,3,1]\n",
    "# Output: true\n",
    "from typing import List\n",
    "class Solution:\n",
    "    def containsDuplicate(self, nums: List[int]) -> bool:\n",
    "        unique_elements = set()\n",
    "        for num in nums:\n",
    "            if num in unique_elements:\n",
    "                return True\n",
    "            else:\n",
    "                unique_elements.add(num)"
   ]
  },
  {
   "cell_type": "code",
   "execution_count": null,
   "metadata": {},
   "outputs": [],
   "source": []
  },
  {
   "cell_type": "markdown",
   "metadata": {},
   "source": []
  },
  {
   "cell_type": "markdown",
   "metadata": {},
   "source": []
  },
  {
   "cell_type": "code",
   "execution_count": 4,
   "metadata": {},
   "outputs": [
    {
     "data": {
      "text/plain": [
       "True"
      ]
     },
     "execution_count": 4,
     "metadata": {},
     "output_type": "execute_result"
    }
   ],
   "source": []
  },
  {
   "cell_type": "code",
   "execution_count": null,
   "metadata": {},
   "outputs": [],
   "source": []
  }
 ],
 "metadata": {
  "kernelspec": {
   "display_name": "base",
   "language": "python",
   "name": "python3"
  },
  "language_info": {
   "codemirror_mode": {
    "name": "ipython",
    "version": 3
   },
   "file_extension": ".py",
   "mimetype": "text/x-python",
   "name": "python",
   "nbconvert_exporter": "python",
   "pygments_lexer": "ipython3",
   "version": "3.11.4"
  }
 },
 "nbformat": 4,
 "nbformat_minor": 2
}
