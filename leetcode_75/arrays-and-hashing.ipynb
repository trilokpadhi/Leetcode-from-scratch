{
 "cells": [
  {
   "cell_type": "markdown",
   "metadata": {},
   "source": [
    "#### Hashmap\n",
    "Hashmap is a data structure that stores key-value pairs. It is also known as a dictionary, map, or associative array. It is widely used in programming because of its fast lookups and updates. In Python, a hashmap is implemented using a dictionary.\n",
    "#### Implementation of a hashmap\n",
    "1. Under the hood, hashmap is implemented using an array, and each element in the array is a key-value pair where the key is the name and the value is the \n",
    "number of times the name appears in the array. \n",
    "2. We are going to convert the keys of the hashmap into an array index, and this process is called hashing.\n",
    "Lets say we have the example list of the names [\"Mary\", \"John\", \"Emma\", \"John\"], and we want to put those elements into a hashmap, we need to convert the keys into an array index. So, we need to hash the keys. One of the ways to hash the keys is to use the ASCII value of all the characters in the key and then take the modulo of the length of the array. \n"
   ]
  },
  {
   "cell_type": "code",
   "execution_count": 5,
   "metadata": {},
   "outputs": [],
   "source": [
    "# Use a dictionary to count the number of occurences \n",
    "names = [\"Mary\", \"John\", \"Emma\", \"John\"]\n",
    "hashmap_names = {}\n",
    "for name in names:\n",
    "    if name not in hashmap_names:\n",
    "        hashmap_names[name] = 1\n",
    "    else:\n",
    "        hashmap_names[name] += 1\n",
    "    \n",
    "# Built the hashmap\n",
    "class Pair:\n",
    "    def __init__(self, key, value) -> None:\n",
    "        self.key = key\n",
    "        self.value = value\n",
    "        \n",
    "class HashMap:\n",
    "    def __init__(self) -> None:\n",
    "        self.size = 2\n",
    "        self.data = [None] * self.size\n",
    "        \n",
    "    # Hash function: The objective of the below function is to return an integer value between 0 and size - 1, so that we have a valid index in the data array.\n",
    "    def hash(self, key):\n",
    "        hash = 0\n",
    "        for char in key:\n",
    "            hash += ord(char) # ord() returns an integer representing the Unicode code point of the character\n",
    "        return hash % self.size\n",
    "    \n",
    "    def get(self, key):\n",
    "        index = self.hash(key)\n",
    "        if self.data[index] == None:\n",
    "            return None\n",
    "        for pair in self.data[index]:\n",
    "            if pair.key == key:\n",
    "                return pair.value\n",
    "            \n",
    "    def put(self, key, value):\n",
    "        index = self.hash(key)\n",
    "        if self.data[index] == None:\n",
    "            self.data[index] = Pair(key, value)\n",
    "        else:\n",
    "            self.data[index].value = value\n",
    "            \n",
    "    def rehash(self):\n",
    "        old = self.data\n",
    "        self.size *= 2\n",
    "        self.data = [None] * self.size\n",
    "        for pair in old:\n",
    "            if pair != None:\n",
    "                self.put(pair.key, pair.value)"
   ]
  },
  {
   "cell_type": "code",
   "execution_count": null,
   "metadata": {},
   "outputs": [],
   "source": [
    "# https://leetcode.com/problems/contains-duplicate/\n",
    "# Given an integer array nums, return true if any value appears at least twice in the array, and return false if every element is distinct.\n",
    "# Example 1:\n",
    "# Input: nums = [1,2,3,1]\n",
    "# Output: true\n",
    "from typing import List\n",
    "class Solution:\n",
    "    def containsDuplicate(self, nums: List[int]) -> bool:\n",
    "        unique_elements = set()\n",
    "        for num in nums:\n",
    "            if num in unique_elements:\n",
    "                return True\n",
    "            else:\n",
    "                unique_elements.add(num)"
   ]
  },
  {
   "cell_type": "code",
   "execution_count": null,
   "metadata": {},
   "outputs": [],
   "source": [
    "# 242. Valid Anagram\n",
    "# Given two strings s and t, return true if t is an anagram of s, and false otherwise.\n",
    "# An Anagram is a word or phrase formed by rearranging the letters of a different word or phrase, typically using all the original letters exactly once.\n",
    "# Example 1:\n",
    "# Input: s = \"anagram\", t = \"nagaram\"\n",
    "# Output: true\n",
    "class Solution:\n",
    "    def isAnagram(self, s: str, t: str) -> bool:\n",
    "        freq_s = {}\n",
    "        freq_t = {}\n",
    "        for i in s:\n",
    "            if i in freq_s:\n",
    "                freq_s[i]=freq_s[i]+1\n",
    "            else:\n",
    "                freq_s[i]=1\n",
    "        for i in t:\n",
    "            if i in freq_t:\n",
    "                freq_t[i]=freq_t[i]+1\n",
    "            else:\n",
    "                freq_t[i]=1       \n",
    "            \n",
    "        if freq_s==freq_t:\n",
    "            return True\n",
    "        else:\n",
    "            return False"
   ]
  },
  {
   "cell_type": "code",
   "execution_count": 30,
   "metadata": {},
   "outputs": [],
   "source": [
    "# 1. Two Sum\n",
    "# Given an array of integers nums and an integer target, return indices of the two numbers such that they add up to target.\n",
    "# You may assume that each input would have exactly one solution, and you may not use the same element twice.\n",
    "# You can return the answer in any order.\n",
    "# Example 1:\n",
    "# Input: nums = [2,7,11,15], target = 9\n",
    "# Output: [0,1]\n",
    "# Explanation: Because nums[0] + nums[1] == 9, we return [0, 1].\n",
    "from typing import List\n",
    "class Solution:\n",
    "    def twoSum(self, nums: List[int], target: int) -> List[int]:\n",
    "        difference_index_dict = {}\n",
    "        for i in range(len(nums)):\n",
    "            if nums[i] < target:\n",
    "                difference = target - nums[i]\n",
    "                if nums[i] not in list(difference_index_dict.keys()):\n",
    "                    difference_index_dict[difference]=i\n",
    "                else:\n",
    "                    return [i,difference_index_dict[nums[i]]]"
   ]
  },
  {
   "cell_type": "code",
   "execution_count": 32,
   "metadata": {},
   "outputs": [],
   "source": [
    "# 49. Group Anagrams\n",
    "# Given an array of strings strs, group the anagrams together. You can return the answer in any order.\n",
    "# An Anagram is a word or phrase formed by rearranging the letters of a different word or phrase, typically using all the original letters exactly once.\n",
    "# Example 1:\n",
    "# Input: strs = [\"eat\",\"tea\",\"tan\",\"ate\",\"nat\",\"bat\"]\n",
    "# Output: [[\"bat\"],[\"nat\",\"tan\"],[\"ate\",\"eat\",\"tea\"]]\n",
    "# ==========\n",
    "# So the brute force solution is, to sort each string, and store them in a hashmap where the key is the sorted string, and the value is the original string.\n",
    "# Then, we can easily return the original string in the list. and the time complexity is O(NKlogK) where N is the number of strings and K is the length of the strings.\n",
    "# But can we do better than this ? \n",
    "# ========== \n",
    "# Yes, so the better idea is to come up with the key that is unique for each anagram, instead of sorting, and then store them in a hashmap.\n",
    "# The key is the count array which has the count of characters in each string.\n",
    "# The value is the original string.\n",
    "# Then, we can easily return the original string in the list. and the time complexity is O(NK) where N is the number of strings and K is the length of the strings.\n",
    "from collections import defaultdict\n",
    "class Solution:\n",
    "    def groupAnagrams(self, strs: List[str]) -> List[List[str]]:\n",
    "        # anagrams = {}\n",
    "        # defaultdict is a container that provides a default value for the key that does not exist. When a key is not found in the dictionary,\n",
    "        # the item is created using the default value.\n",
    "        anagrams = defaultdict(list)  \n",
    "        for s in strs:\n",
    "            count = [0] * 26\n",
    "            for c in s:\n",
    "                count[ord(c) - ord('a')] += 1 # ord() returns an integer representing the Unicode code point of the character, we subtract ord('a') to get the index of the character in the count array.\n",
    "            # we use tuple because dictionaries keys cannot be lists.\n",
    "            # tuple is hashable. what does that mean ?\n",
    "            # https://stackoverflow.com/questions/5884066/what-does-hashable-mean-in-python\n",
    "            # In Python, an object is hashable if it has a hash value that doesn't change during its lifetime. Hash values are integers that are used to identify\n",
    "            # objects in dictionaries and sets. Tuples are immutable objects, meaning that their elements cannot be changed once they are created. This makes \n",
    "            # them hashable, since their hash values will never change.\n",
    "            # What is hashing in python ? Hashing in Python is the process of converting a data type, such as a string, number, or tuple into a fixed-size \n",
    "            # integer value. This value is called the hash value or hash code. The hash function is used to generate the hash value.\n",
    "            # List unhashable, but tuple is hashable ? \n",
    "            # https://stackoverflow.com/questions/37136878/list-unhashable-but-tuple-hashable\n",
    "            anagrams[tuple(count)] = anagrams.get(tuple(count), []) + [s]\n",
    "        return list(anagrams.values())\n",
    "    \n",
    "# What is defaultdict ?\n",
    "# https://www.geeksforgeeks.org/defaultdict-in-python/\n",
    "# Dictionary in Python is an unordered collection of data values that are used to store data values like a map. Unlike other Data Types that hold only single \n",
    "# value as an element, the Dictionary holds key-value pair. In Dictionary, the key must be unique and immutable. This means that a Python Tuple can be a key \n",
    "# whereas a Python List can not. A Dictionary can be created by placing a sequence of elements within curly {} braces, separated by ‘comma’. Sometimes, when \n",
    "# the KeyError is raised, it might become a problem. To overcome this Python introduces another dictionary like container known as Defaultdict which is present \n",
    "# inside the collections module."
   ]
  },
  {
   "cell_type": "code",
   "execution_count": 23,
   "metadata": {},
   "outputs": [
    {
     "data": {
      "text/plain": [
       "[7]"
      ]
     },
     "execution_count": 23,
     "metadata": {},
     "output_type": "execute_result"
    }
   ],
   "source": [
    "# 347. Top K Frequent Elements\n",
    "# Given an integer array nums and an integer k, return the k most frequent elements. You may return the answer in any order.\n",
    "# Example 1:\n",
    "# Input: nums = [1,1,1,2,2,3], k = 2\n",
    "# Output: [1,2]\n",
    "# Example 2:\n",
    "# Input: nums = [1], k = 1\n",
    "# Output: [1]\n",
    "\n",
    "class Solution:\n",
    "    def topkfrequent(self, nums, k):\n",
    "        freq = {}\n",
    "        for num in nums:\n",
    "            if num in freq:\n",
    "                freq[num] += 1\n",
    "            else:\n",
    "                freq[num] = 1\n",
    "        # sort by frequency,\n",
    "        freq = sorted(freq.items(), key=lambda x: x[1], reverse=True)\n",
    "        return [i[0] for i in freq[:k]]\n"
   ]
  },
  {
   "cell_type": "code",
   "execution_count": 33,
   "metadata": {},
   "outputs": [],
   "source": [
    "nums = [1,1,1,2,2,3]\n",
    "freq = {}\n",
    "for num in nums:\n",
    "    if num in freq:\n",
    "        freq[num] += 1\n",
    "    else:\n",
    "        freq[num] = 1"
   ]
  },
  {
   "cell_type": "code",
   "execution_count": 34,
   "metadata": {},
   "outputs": [
    {
     "data": {
      "text/plain": [
       "{1: 3, 2: 2, 3: 1}"
      ]
     },
     "execution_count": 34,
     "metadata": {},
     "output_type": "execute_result"
    }
   ],
   "source": [
    "freq"
   ]
  },
  {
   "cell_type": "code",
   "execution_count": 35,
   "metadata": {},
   "outputs": [
    {
     "data": {
      "text/plain": [
       "dict_items([(1, 3), (2, 2), (3, 1)])"
      ]
     },
     "execution_count": 35,
     "metadata": {},
     "output_type": "execute_result"
    }
   ],
   "source": [
    "freq.items()"
   ]
  },
  {
   "cell_type": "code",
   "execution_count": null,
   "metadata": {},
   "outputs": [],
   "source": []
  }
 ],
 "metadata": {
  "kernelspec": {
   "display_name": "base",
   "language": "python",
   "name": "python3"
  },
  "language_info": {
   "codemirror_mode": {
    "name": "ipython",
    "version": 3
   },
   "file_extension": ".py",
   "mimetype": "text/x-python",
   "name": "python",
   "nbconvert_exporter": "python",
   "pygments_lexer": "ipython3",
   "version": "3.12.2"
  }
 },
 "nbformat": 4,
 "nbformat_minor": 2
}
